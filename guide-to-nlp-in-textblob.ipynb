{
 "cells": [
  {
   "cell_type": "markdown",
   "id": "5ebe2d11",
   "metadata": {
    "papermill": {
     "duration": 0.019789,
     "end_time": "2022-10-14T21:35:00.344960",
     "exception": false,
     "start_time": "2022-10-14T21:35:00.325171",
     "status": "completed"
    },
    "tags": []
   },
   "source": [
    "# Guide to NLP in TextBlob"
   ]
  },
  {
   "cell_type": "markdown",
   "id": "b2a72d6e",
   "metadata": {
    "papermill": {
     "duration": 0.016243,
     "end_time": "2022-10-14T21:35:00.377071",
     "exception": false,
     "start_time": "2022-10-14T21:35:00.360828",
     "status": "completed"
    },
    "tags": []
   },
   "source": [
    "## Introduction\n",
    "TextBlob is a Python (2 and 3) library for processing textual data. It provides a consistent API for diving into common natural language processing (NLP) tasks such as part-of-speech tagging, noun phrase extraction, sentiment analysis, and more. "
   ]
  },
  {
   "cell_type": "markdown",
   "id": "0d39a9a7",
   "metadata": {
    "papermill": {
     "duration": 0.015495,
     "end_time": "2022-10-14T21:35:00.409000",
     "exception": false,
     "start_time": "2022-10-14T21:35:00.393505",
     "status": "completed"
    },
    "tags": []
   },
   "source": [
    "### Installation"
   ]
  },
  {
   "cell_type": "code",
   "execution_count": 1,
   "id": "f65aedd3",
   "metadata": {
    "_kg_hide-output": true,
    "execution": {
     "iopub.execute_input": "2022-10-14T21:35:00.443051Z",
     "iopub.status.busy": "2022-10-14T21:35:00.442357Z",
     "iopub.status.idle": "2022-10-14T21:35:16.874177Z",
     "shell.execute_reply": "2022-10-14T21:35:16.872754Z"
    },
    "papermill": {
     "duration": 16.452245,
     "end_time": "2022-10-14T21:35:16.877030",
     "exception": false,
     "start_time": "2022-10-14T21:35:00.424785",
     "status": "completed"
    },
    "tags": []
   },
   "outputs": [
    {
     "name": "stdout",
     "output_type": "stream",
     "text": [
      "Requirement already satisfied: textblob in /opt/conda/lib/python3.7/site-packages (0.17.1)\r\n",
      "Requirement already satisfied: nltk>=3.1 in /opt/conda/lib/python3.7/site-packages (from textblob) (3.7)\r\n",
      "Requirement already satisfied: regex>=2021.8.3 in /opt/conda/lib/python3.7/site-packages (from nltk>=3.1->textblob) (2021.11.10)\r\n",
      "Requirement already satisfied: click in /opt/conda/lib/python3.7/site-packages (from nltk>=3.1->textblob) (8.0.4)\r\n",
      "Requirement already satisfied: joblib in /opt/conda/lib/python3.7/site-packages (from nltk>=3.1->textblob) (1.0.1)\r\n",
      "Requirement already satisfied: tqdm in /opt/conda/lib/python3.7/site-packages (from nltk>=3.1->textblob) (4.64.0)\r\n",
      "Requirement already satisfied: importlib-metadata in /opt/conda/lib/python3.7/site-packages (from click->nltk>=3.1->textblob) (4.12.0)\r\n",
      "Requirement already satisfied: zipp>=0.5 in /opt/conda/lib/python3.7/site-packages (from importlib-metadata->click->nltk>=3.1->textblob) (3.8.0)\r\n",
      "Requirement already satisfied: typing-extensions>=3.6.4 in /opt/conda/lib/python3.7/site-packages (from importlib-metadata->click->nltk>=3.1->textblob) (4.3.0)\r\n",
      "\u001b[33mWARNING: Running pip as the 'root' user can result in broken permissions and conflicting behaviour with the system package manager. It is recommended to use a virtual environment instead: https://pip.pypa.io/warnings/venv\u001b[0m\u001b[33m\r\n",
      "\u001b[0m[nltk_data] Downloading package brown to /usr/share/nltk_data...\r\n",
      "[nltk_data]   Package brown is already up-to-date!\r\n",
      "[nltk_data] Downloading package punkt to /usr/share/nltk_data...\r\n",
      "[nltk_data]   Package punkt is already up-to-date!\r\n",
      "[nltk_data] Downloading package wordnet to /usr/share/nltk_data...\r\n",
      "[nltk_data]   Package wordnet is already up-to-date!\r\n",
      "[nltk_data] Downloading package averaged_perceptron_tagger to\r\n",
      "[nltk_data]     /usr/share/nltk_data...\r\n",
      "[nltk_data]   Package averaged_perceptron_tagger is already up-to-\r\n",
      "[nltk_data]       date!\r\n",
      "[nltk_data] Downloading package conll2000 to /usr/share/nltk_data...\r\n",
      "[nltk_data]   Package conll2000 is already up-to-date!\r\n",
      "[nltk_data] Downloading package movie_reviews to\r\n",
      "[nltk_data]     /usr/share/nltk_data...\r\n",
      "[nltk_data]   Package movie_reviews is already up-to-date!\r\n",
      "Finished.\r\n"
     ]
    }
   ],
   "source": [
    "!pip install -U textblob\n",
    "!python -m textblob.download_corpora"
   ]
  },
  {
   "cell_type": "markdown",
   "id": "ee0c9f11",
   "metadata": {
    "papermill": {
     "duration": 0.015759,
     "end_time": "2022-10-14T21:35:16.909298",
     "exception": false,
     "start_time": "2022-10-14T21:35:16.893539",
     "status": "completed"
    },
    "tags": []
   },
   "source": [
    "Refer to [TextBlob Documentation](https://textblob.readthedocs.io/en/dev/) here \n",
    "- [Github](https://github.com/sloria/TextBlob)"
   ]
  },
  {
   "cell_type": "markdown",
   "id": "f997d817",
   "metadata": {
    "papermill": {
     "duration": 0.015711,
     "end_time": "2022-10-14T21:35:16.941596",
     "exception": false,
     "start_time": "2022-10-14T21:35:16.925885",
     "status": "completed"
    },
    "tags": []
   },
   "source": [
    "### Features of TextBlob\n",
    "*    Noun phrase extraction\n",
    "*    Part-of-speech tagging\n",
    "*    Sentiment analysis\n",
    "*    Classification (Naive Bayes, Decision Tree)\n",
    "*    Tokenization (splitting text into words and sentences)\n",
    "*    Word and phrase frequencies\n",
    "*    Parsing\n",
    "*    n-grams\n",
    "*    Word inflection (pluralization and singularization) and lemmatization\n",
    "*    Spelling correction\n",
    "*    Add new models or languages through extensions\n",
    "*    WordNet integration\n",
    "\n"
   ]
  },
  {
   "cell_type": "markdown",
   "id": "11344b2f",
   "metadata": {
    "papermill": {
     "duration": 0.015909,
     "end_time": "2022-10-14T21:35:16.973714",
     "exception": false,
     "start_time": "2022-10-14T21:35:16.957805",
     "status": "completed"
    },
    "tags": []
   },
   "source": [
    "### Importing TextBlob"
   ]
  },
  {
   "cell_type": "code",
   "execution_count": 2,
   "id": "4a3c9e3f",
   "metadata": {
    "execution": {
     "iopub.execute_input": "2022-10-14T21:35:17.008376Z",
     "iopub.status.busy": "2022-10-14T21:35:17.007793Z",
     "iopub.status.idle": "2022-10-14T21:35:17.747098Z",
     "shell.execute_reply": "2022-10-14T21:35:17.746150Z"
    },
    "papermill": {
     "duration": 0.759517,
     "end_time": "2022-10-14T21:35:17.749505",
     "exception": false,
     "start_time": "2022-10-14T21:35:16.989988",
     "status": "completed"
    },
    "tags": []
   },
   "outputs": [],
   "source": [
    "from textblob import TextBlob"
   ]
  },
  {
   "cell_type": "code",
   "execution_count": 3,
   "id": "20d463fd",
   "metadata": {
    "execution": {
     "iopub.execute_input": "2022-10-14T21:35:17.784167Z",
     "iopub.status.busy": "2022-10-14T21:35:17.783128Z",
     "iopub.status.idle": "2022-10-14T21:35:17.788699Z",
     "shell.execute_reply": "2022-10-14T21:35:17.787605Z"
    },
    "papermill": {
     "duration": 0.025311,
     "end_time": "2022-10-14T21:35:17.791027",
     "exception": false,
     "start_time": "2022-10-14T21:35:17.765716",
     "status": "completed"
    },
    "tags": []
   },
   "outputs": [],
   "source": [
    "text = \"\"\"\n",
    "The titular threat of The Blob has always struck me as the ultimate movie\n",
    "monster: an insatiably hungry, amoeba-like mass able to penetrate\n",
    "virtually any safeguard, capable of--as a doomed doctor chillingly\n",
    "describes it--\"assimilating flesh on contact.\n",
    "Snide comparisons to gelatin be damned, it's a concept with the most\n",
    "devastating of potential consequences, not unlike the grey goo scenario\n",
    "proposed by technological theorists fearful of\n",
    "artificial intelligence run rampant.\n",
    "\"\"\""
   ]
  },
  {
   "cell_type": "markdown",
   "id": "675645c1",
   "metadata": {
    "papermill": {
     "duration": 0.015713,
     "end_time": "2022-10-14T21:35:17.823593",
     "exception": false,
     "start_time": "2022-10-14T21:35:17.807880",
     "status": "completed"
    },
    "tags": []
   },
   "source": [
    "### Part-of-speech Tagging\n",
    "\n",
    "Part-of-speech tags can be accessed through the tags property."
   ]
  },
  {
   "cell_type": "code",
   "execution_count": 4,
   "id": "0b370662",
   "metadata": {
    "execution": {
     "iopub.execute_input": "2022-10-14T21:35:17.857154Z",
     "iopub.status.busy": "2022-10-14T21:35:17.856753Z",
     "iopub.status.idle": "2022-10-14T21:35:18.017988Z",
     "shell.execute_reply": "2022-10-14T21:35:18.017033Z"
    },
    "papermill": {
     "duration": 0.181165,
     "end_time": "2022-10-14T21:35:18.020735",
     "exception": false,
     "start_time": "2022-10-14T21:35:17.839570",
     "status": "completed"
    },
    "tags": []
   },
   "outputs": [
    {
     "data": {
      "text/plain": [
       "[('The', 'DT'),\n",
       " ('titular', 'JJ'),\n",
       " ('threat', 'NN'),\n",
       " ('of', 'IN'),\n",
       " ('The', 'DT'),\n",
       " ('Blob', 'NNP'),\n",
       " ('has', 'VBZ'),\n",
       " ('always', 'RB'),\n",
       " ('struck', 'VBN'),\n",
       " ('me', 'PRP'),\n",
       " ('as', 'IN'),\n",
       " ('the', 'DT'),\n",
       " ('ultimate', 'JJ'),\n",
       " ('movie', 'NN'),\n",
       " ('monster', 'NN'),\n",
       " ('an', 'DT'),\n",
       " ('insatiably', 'RB'),\n",
       " ('hungry', 'JJ'),\n",
       " ('amoeba-like', 'JJ'),\n",
       " ('mass', 'NN'),\n",
       " ('able', 'JJ'),\n",
       " ('to', 'TO'),\n",
       " ('penetrate', 'VB'),\n",
       " ('virtually', 'RB'),\n",
       " ('any', 'DT'),\n",
       " ('safeguard', 'NN'),\n",
       " ('capable', 'JJ'),\n",
       " ('of', 'IN'),\n",
       " ('as', 'IN'),\n",
       " ('a', 'DT'),\n",
       " ('doomed', 'JJ'),\n",
       " ('doctor', 'NN'),\n",
       " ('chillingly', 'RB'),\n",
       " ('describes', 'VBZ'),\n",
       " ('it', 'PRP'),\n",
       " ('assimilating', 'VBG'),\n",
       " ('flesh', 'NN'),\n",
       " ('on', 'IN'),\n",
       " ('contact', 'NN'),\n",
       " ('Snide', 'JJ'),\n",
       " ('comparisons', 'NNS'),\n",
       " ('to', 'TO'),\n",
       " ('gelatin', 'VB'),\n",
       " ('be', 'VB'),\n",
       " ('damned', 'VBN'),\n",
       " ('it', 'PRP'),\n",
       " (\"'s\", 'VBZ'),\n",
       " ('a', 'DT'),\n",
       " ('concept', 'NN'),\n",
       " ('with', 'IN'),\n",
       " ('the', 'DT'),\n",
       " ('most', 'RBS'),\n",
       " ('devastating', 'JJ'),\n",
       " ('of', 'IN'),\n",
       " ('potential', 'JJ'),\n",
       " ('consequences', 'NNS'),\n",
       " ('not', 'RB'),\n",
       " ('unlike', 'IN'),\n",
       " ('the', 'DT'),\n",
       " ('grey', 'NN'),\n",
       " ('goo', 'NN'),\n",
       " ('scenario', 'NN'),\n",
       " ('proposed', 'VBN'),\n",
       " ('by', 'IN'),\n",
       " ('technological', 'JJ'),\n",
       " ('theorists', 'NNS'),\n",
       " ('fearful', 'NN'),\n",
       " ('of', 'IN'),\n",
       " ('artificial', 'JJ'),\n",
       " ('intelligence', 'NN'),\n",
       " ('run', 'NN'),\n",
       " ('rampant', 'NN')]"
      ]
     },
     "execution_count": 4,
     "metadata": {},
     "output_type": "execute_result"
    }
   ],
   "source": [
    "blob = TextBlob(text)\n",
    "blob.tags           \n",
    "# [('The', 'DT'), ('titular', 'JJ'),\n",
    "#  ('threat', 'NN'), ('of', 'IN'), ]"
   ]
  },
  {
   "cell_type": "markdown",
   "id": "2916ad4b",
   "metadata": {
    "papermill": {
     "duration": 0.016279,
     "end_time": "2022-10-14T21:35:18.053513",
     "exception": false,
     "start_time": "2022-10-14T21:35:18.037234",
     "status": "completed"
    },
    "tags": []
   },
   "source": [
    "### Noun Phrase Extraction¶\n",
    "Similarly, noun phrases are accessed through the noun_phrases property."
   ]
  },
  {
   "cell_type": "code",
   "execution_count": 5,
   "id": "5b1147fd",
   "metadata": {
    "execution": {
     "iopub.execute_input": "2022-10-14T21:35:18.089123Z",
     "iopub.status.busy": "2022-10-14T21:35:18.087884Z",
     "iopub.status.idle": "2022-10-14T21:35:22.186459Z",
     "shell.execute_reply": "2022-10-14T21:35:22.185240Z"
    },
    "papermill": {
     "duration": 4.118541,
     "end_time": "2022-10-14T21:35:22.188850",
     "exception": false,
     "start_time": "2022-10-14T21:35:18.070309",
     "status": "completed"
    },
    "tags": []
   },
   "outputs": [
    {
     "data": {
      "text/plain": [
       "WordList(['titular threat', 'blob', 'ultimate movie monster', 'amoeba-like mass', 'snide', 'potential consequences', 'grey goo scenario', 'technological theorists fearful', 'artificial intelligence run rampant'])"
      ]
     },
     "execution_count": 5,
     "metadata": {},
     "output_type": "execute_result"
    }
   ],
   "source": [
    "blob.noun_phrases\n",
    "# WordList(['titular threat', 'blob',\n",
    "#            'ultimate movie monster',\n",
    "#            'amoeba-like mass', ])"
   ]
  },
  {
   "cell_type": "markdown",
   "id": "2e4fa01f",
   "metadata": {
    "papermill": {
     "duration": 0.016208,
     "end_time": "2022-10-14T21:35:22.222362",
     "exception": false,
     "start_time": "2022-10-14T21:35:22.206154",
     "status": "completed"
    },
    "tags": []
   },
   "source": [
    "### Sentiment Analysis¶\n",
    "\n",
    "The sentiment property returns a namedtuple of the form Sentiment(polarity, subjectivity). The polarity score is a float within the range [-1.0, 1.0]. The subjectivity is a float within the range [0.0, 1.0] where 0.0 is very objective and 1.0 is very subjective."
   ]
  },
  {
   "cell_type": "code",
   "execution_count": 6,
   "id": "6cac28bc",
   "metadata": {
    "execution": {
     "iopub.execute_input": "2022-10-14T21:35:22.257500Z",
     "iopub.status.busy": "2022-10-14T21:35:22.256794Z",
     "iopub.status.idle": "2022-10-14T21:35:22.311739Z",
     "shell.execute_reply": "2022-10-14T21:35:22.310904Z"
    },
    "papermill": {
     "duration": 0.075802,
     "end_time": "2022-10-14T21:35:22.314702",
     "exception": false,
     "start_time": "2022-10-14T21:35:22.238900",
     "status": "completed"
    },
    "tags": []
   },
   "outputs": [
    {
     "name": "stdout",
     "output_type": "stream",
     "text": [
      "Sentiment(polarity=-0.1590909090909091, subjectivity=0.6931818181818182)\n",
      "0.06000000000000001\n",
      "-0.34166666666666673\n"
     ]
    }
   ],
   "source": [
    "print(blob.sentiment)\n",
    "\n",
    "for sentence in blob.sentences:\n",
    "    print(sentence.sentiment.polarity)"
   ]
  },
  {
   "cell_type": "markdown",
   "id": "33a8b302",
   "metadata": {
    "papermill": {
     "duration": 0.015986,
     "end_time": "2022-10-14T21:35:22.348104",
     "exception": false,
     "start_time": "2022-10-14T21:35:22.332118",
     "status": "completed"
    },
    "tags": []
   },
   "source": [
    "### Tokenization\n",
    "\n",
    "You can break TextBlobs into words or sentences."
   ]
  },
  {
   "cell_type": "code",
   "execution_count": 7,
   "id": "aa0b2637",
   "metadata": {
    "execution": {
     "iopub.execute_input": "2022-10-14T21:35:22.383151Z",
     "iopub.status.busy": "2022-10-14T21:35:22.382005Z",
     "iopub.status.idle": "2022-10-14T21:35:22.390487Z",
     "shell.execute_reply": "2022-10-14T21:35:22.389440Z"
    },
    "papermill": {
     "duration": 0.02832,
     "end_time": "2022-10-14T21:35:22.392714",
     "exception": false,
     "start_time": "2022-10-14T21:35:22.364394",
     "status": "completed"
    },
    "tags": []
   },
   "outputs": [
    {
     "data": {
      "text/plain": [
       "WordList(['The', 'titular', 'threat', 'of', 'The', 'Blob', 'has', 'always', 'struck', 'me', 'as', 'the', 'ultimate', 'movie', 'monster', 'an', 'insatiably', 'hungry', 'amoeba-like', 'mass', 'able', 'to', 'penetrate', 'virtually', 'any', 'safeguard', 'capable', 'of', 'as', 'a', 'doomed', 'doctor', 'chillingly', 'describes', 'it', 'assimilating', 'flesh', 'on', 'contact', 'Snide', 'comparisons', 'to', 'gelatin', 'be', 'damned', 'it', \"'s\", 'a', 'concept', 'with', 'the', 'most', 'devastating', 'of', 'potential', 'consequences', 'not', 'unlike', 'the', 'grey', 'goo', 'scenario', 'proposed', 'by', 'technological', 'theorists', 'fearful', 'of', 'artificial', 'intelligence', 'run', 'rampant'])"
      ]
     },
     "execution_count": 7,
     "metadata": {},
     "output_type": "execute_result"
    }
   ],
   "source": [
    "blob.words"
   ]
  },
  {
   "cell_type": "code",
   "execution_count": 8,
   "id": "66bfa496",
   "metadata": {
    "execution": {
     "iopub.execute_input": "2022-10-14T21:35:22.428287Z",
     "iopub.status.busy": "2022-10-14T21:35:22.427466Z",
     "iopub.status.idle": "2022-10-14T21:35:22.434456Z",
     "shell.execute_reply": "2022-10-14T21:35:22.433562Z"
    },
    "papermill": {
     "duration": 0.027411,
     "end_time": "2022-10-14T21:35:22.436723",
     "exception": false,
     "start_time": "2022-10-14T21:35:22.409312",
     "status": "completed"
    },
    "tags": []
   },
   "outputs": [
    {
     "data": {
      "text/plain": [
       "[Sentence(\"\n",
       " The titular threat of The Blob has always struck me as the ultimate movie\n",
       " monster: an insatiably hungry, amoeba-like mass able to penetrate\n",
       " virtually any safeguard, capable of--as a doomed doctor chillingly\n",
       " describes it--\"assimilating flesh on contact.\"),\n",
       " Sentence(\"Snide comparisons to gelatin be damned, it's a concept with the most\n",
       " devastating of potential consequences, not unlike the grey goo scenario\n",
       " proposed by technological theorists fearful of\n",
       " artificial intelligence run rampant.\")]"
      ]
     },
     "execution_count": 8,
     "metadata": {},
     "output_type": "execute_result"
    }
   ],
   "source": [
    "blob.sentences"
   ]
  },
  {
   "cell_type": "markdown",
   "id": "ff3c518f",
   "metadata": {
    "papermill": {
     "duration": 0.016353,
     "end_time": "2022-10-14T21:35:22.469726",
     "exception": false,
     "start_time": "2022-10-14T21:35:22.453373",
     "status": "completed"
    },
    "tags": []
   },
   "source": [
    "Sentence objects have the same properties and methods as TextBlobs."
   ]
  },
  {
   "cell_type": "code",
   "execution_count": 9,
   "id": "b362872b",
   "metadata": {
    "execution": {
     "iopub.execute_input": "2022-10-14T21:35:22.506242Z",
     "iopub.status.busy": "2022-10-14T21:35:22.505430Z",
     "iopub.status.idle": "2022-10-14T21:35:22.511979Z",
     "shell.execute_reply": "2022-10-14T21:35:22.510696Z"
    },
    "papermill": {
     "duration": 0.027093,
     "end_time": "2022-10-14T21:35:22.514216",
     "exception": false,
     "start_time": "2022-10-14T21:35:22.487123",
     "status": "completed"
    },
    "tags": []
   },
   "outputs": [
    {
     "name": "stdout",
     "output_type": "stream",
     "text": [
      "Sentiment(polarity=0.06000000000000001, subjectivity=0.605)\n",
      "Sentiment(polarity=-0.34166666666666673, subjectivity=0.7666666666666666)\n"
     ]
    }
   ],
   "source": [
    "for sentence in blob.sentences:\n",
    "    print(sentence.sentiment)"
   ]
  },
  {
   "cell_type": "markdown",
   "id": "7f80f97e",
   "metadata": {
    "papermill": {
     "duration": 0.016544,
     "end_time": "2022-10-14T21:35:22.547863",
     "exception": false,
     "start_time": "2022-10-14T21:35:22.531319",
     "status": "completed"
    },
    "tags": []
   },
   "source": [
    "### Words Inflection and Lemmatization\n",
    "\n",
    "Each word in TextBlob.words or Sentence.words is a Word object (a subclass of unicode) with useful methods, e.g. for word inflection."
   ]
  },
  {
   "cell_type": "code",
   "execution_count": 10,
   "id": "de3ef973",
   "metadata": {
    "execution": {
     "iopub.execute_input": "2022-10-14T21:35:22.583429Z",
     "iopub.status.busy": "2022-10-14T21:35:22.582403Z",
     "iopub.status.idle": "2022-10-14T21:35:22.589050Z",
     "shell.execute_reply": "2022-10-14T21:35:22.588119Z"
    },
    "papermill": {
     "duration": 0.026627,
     "end_time": "2022-10-14T21:35:22.591094",
     "exception": false,
     "start_time": "2022-10-14T21:35:22.564467",
     "status": "completed"
    },
    "tags": []
   },
   "outputs": [
    {
     "data": {
      "text/plain": [
       "WordList(['Use', '4', 'spaces', 'per', 'indentation', 'level'])"
      ]
     },
     "execution_count": 10,
     "metadata": {},
     "output_type": "execute_result"
    }
   ],
   "source": [
    "sentence = TextBlob('Use 4 spaces per indentation level.')\n",
    "sentence.words"
   ]
  },
  {
   "cell_type": "code",
   "execution_count": 11,
   "id": "9d6fdf57",
   "metadata": {
    "execution": {
     "iopub.execute_input": "2022-10-14T21:35:22.626972Z",
     "iopub.status.busy": "2022-10-14T21:35:22.626309Z",
     "iopub.status.idle": "2022-10-14T21:35:22.633746Z",
     "shell.execute_reply": "2022-10-14T21:35:22.632685Z"
    },
    "papermill": {
     "duration": 0.027654,
     "end_time": "2022-10-14T21:35:22.635778",
     "exception": false,
     "start_time": "2022-10-14T21:35:22.608124",
     "status": "completed"
    },
    "tags": []
   },
   "outputs": [
    {
     "data": {
      "text/plain": [
       "'space'"
      ]
     },
     "execution_count": 11,
     "metadata": {},
     "output_type": "execute_result"
    }
   ],
   "source": [
    "sentence.words[2].singularize()"
   ]
  },
  {
   "cell_type": "code",
   "execution_count": 12,
   "id": "1ef66c79",
   "metadata": {
    "execution": {
     "iopub.execute_input": "2022-10-14T21:35:22.672583Z",
     "iopub.status.busy": "2022-10-14T21:35:22.671592Z",
     "iopub.status.idle": "2022-10-14T21:35:22.678684Z",
     "shell.execute_reply": "2022-10-14T21:35:22.677692Z"
    },
    "papermill": {
     "duration": 0.02791,
     "end_time": "2022-10-14T21:35:22.680763",
     "exception": false,
     "start_time": "2022-10-14T21:35:22.652853",
     "status": "completed"
    },
    "tags": []
   },
   "outputs": [
    {
     "data": {
      "text/plain": [
       "'indentations'"
      ]
     },
     "execution_count": 12,
     "metadata": {},
     "output_type": "execute_result"
    }
   ],
   "source": [
    "sentence.words[-2].pluralize()"
   ]
  },
  {
   "cell_type": "markdown",
   "id": "052a8b73",
   "metadata": {
    "papermill": {
     "duration": 0.017124,
     "end_time": "2022-10-14T21:35:22.715158",
     "exception": false,
     "start_time": "2022-10-14T21:35:22.698034",
     "status": "completed"
    },
    "tags": []
   },
   "source": [
    "Words can be lemmatized by calling the lemmatize method."
   ]
  },
  {
   "cell_type": "code",
   "execution_count": 13,
   "id": "d7fc73e6",
   "metadata": {
    "execution": {
     "iopub.execute_input": "2022-10-14T21:35:22.751876Z",
     "iopub.status.busy": "2022-10-14T21:35:22.751187Z",
     "iopub.status.idle": "2022-10-14T21:35:25.329484Z",
     "shell.execute_reply": "2022-10-14T21:35:25.328627Z"
    },
    "papermill": {
     "duration": 2.599333,
     "end_time": "2022-10-14T21:35:25.331687",
     "exception": false,
     "start_time": "2022-10-14T21:35:22.732354",
     "status": "completed"
    },
    "tags": []
   },
   "outputs": [
    {
     "name": "stderr",
     "output_type": "stream",
     "text": [
      "[nltk_data] Downloading package omw-1.4 to /usr/share/nltk_data...\n"
     ]
    },
    {
     "data": {
      "text/plain": [
       "'octopus'"
      ]
     },
     "execution_count": 13,
     "metadata": {},
     "output_type": "execute_result"
    }
   ],
   "source": [
    "from textblob import Word\n",
    "import nltk\n",
    "nltk.download('omw-1.4')\n",
    "\n",
    "w = Word(\"octopi\")\n",
    "w.lemmatize()"
   ]
  },
  {
   "cell_type": "code",
   "execution_count": 14,
   "id": "21edf73d",
   "metadata": {
    "execution": {
     "iopub.execute_input": "2022-10-14T21:35:25.368777Z",
     "iopub.status.busy": "2022-10-14T21:35:25.368358Z",
     "iopub.status.idle": "2022-10-14T21:35:25.375498Z",
     "shell.execute_reply": "2022-10-14T21:35:25.374355Z"
    },
    "papermill": {
     "duration": 0.028316,
     "end_time": "2022-10-14T21:35:25.377701",
     "exception": false,
     "start_time": "2022-10-14T21:35:25.349385",
     "status": "completed"
    },
    "tags": []
   },
   "outputs": [
    {
     "data": {
      "text/plain": [
       "'go'"
      ]
     },
     "execution_count": 14,
     "metadata": {},
     "output_type": "execute_result"
    }
   ],
   "source": [
    "w = Word(\"went\")\n",
    "w.lemmatize(\"v\")  # Pass in WordNet part of speech (verb)"
   ]
  },
  {
   "cell_type": "markdown",
   "id": "1670159b",
   "metadata": {
    "papermill": {
     "duration": 0.017467,
     "end_time": "2022-10-14T21:35:25.413575",
     "exception": false,
     "start_time": "2022-10-14T21:35:25.396108",
     "status": "completed"
    },
    "tags": []
   },
   "source": [
    "You can access the definitions for each synset via the definitions property or the define() method, which can also take an optional part-of-speech argument."
   ]
  },
  {
   "cell_type": "code",
   "execution_count": 15,
   "id": "08048962",
   "metadata": {
    "execution": {
     "iopub.execute_input": "2022-10-14T21:35:25.451913Z",
     "iopub.status.busy": "2022-10-14T21:35:25.450917Z",
     "iopub.status.idle": "2022-10-14T21:35:25.559281Z",
     "shell.execute_reply": "2022-10-14T21:35:25.558102Z"
    },
    "papermill": {
     "duration": 0.129651,
     "end_time": "2022-10-14T21:35:25.561834",
     "exception": false,
     "start_time": "2022-10-14T21:35:25.432183",
     "status": "completed"
    },
    "tags": []
   },
   "outputs": [
    {
     "data": {
      "text/plain": [
       "['tentacles of octopus prepared as food',\n",
       " 'bottom-living cephalopod having a soft oval body with eight long tentacles']"
      ]
     },
     "execution_count": 15,
     "metadata": {},
     "output_type": "execute_result"
    }
   ],
   "source": [
    "Word(\"octopus\").definitions"
   ]
  },
  {
   "cell_type": "markdown",
   "id": "57965e0d",
   "metadata": {
    "papermill": {
     "duration": 0.017428,
     "end_time": "2022-10-14T21:35:25.597161",
     "exception": false,
     "start_time": "2022-10-14T21:35:25.579733",
     "status": "completed"
    },
    "tags": []
   },
   "source": [
    "You can also create synsets directly."
   ]
  },
  {
   "cell_type": "code",
   "execution_count": 16,
   "id": "7a5453e5",
   "metadata": {
    "execution": {
     "iopub.execute_input": "2022-10-14T21:35:25.634135Z",
     "iopub.status.busy": "2022-10-14T21:35:25.633734Z",
     "iopub.status.idle": "2022-10-14T21:35:25.644382Z",
     "shell.execute_reply": "2022-10-14T21:35:25.643410Z"
    },
    "papermill": {
     "duration": 0.031674,
     "end_time": "2022-10-14T21:35:25.646477",
     "exception": false,
     "start_time": "2022-10-14T21:35:25.614803",
     "status": "completed"
    },
    "tags": []
   },
   "outputs": [
    {
     "data": {
      "text/plain": [
       "0.1111111111111111"
      ]
     },
     "execution_count": 16,
     "metadata": {},
     "output_type": "execute_result"
    }
   ],
   "source": [
    "from textblob.wordnet import Synset\n",
    "octopus = Synset('octopus.n.02')\n",
    "shrimp = Synset('shrimp.n.03')\n",
    "octopus.path_similarity(shrimp)"
   ]
  },
  {
   "cell_type": "markdown",
   "id": "c23e1fad",
   "metadata": {
    "papermill": {
     "duration": 0.020361,
     "end_time": "2022-10-14T21:35:25.686031",
     "exception": false,
     "start_time": "2022-10-14T21:35:25.665670",
     "status": "completed"
    },
    "tags": []
   },
   "source": [
    "### WordLists\n",
    "\n",
    "A WordList is just a Python list with additional methods."
   ]
  },
  {
   "cell_type": "code",
   "execution_count": 17,
   "id": "0f6526c8",
   "metadata": {
    "execution": {
     "iopub.execute_input": "2022-10-14T21:35:25.732644Z",
     "iopub.status.busy": "2022-10-14T21:35:25.731778Z",
     "iopub.status.idle": "2022-10-14T21:35:25.739340Z",
     "shell.execute_reply": "2022-10-14T21:35:25.738107Z"
    },
    "papermill": {
     "duration": 0.037269,
     "end_time": "2022-10-14T21:35:25.742962",
     "exception": false,
     "start_time": "2022-10-14T21:35:25.705693",
     "status": "completed"
    },
    "tags": []
   },
   "outputs": [
    {
     "data": {
      "text/plain": [
       "WordList(['cat', 'dog', 'octopus'])"
      ]
     },
     "execution_count": 17,
     "metadata": {},
     "output_type": "execute_result"
    }
   ],
   "source": [
    "animals = TextBlob(\"cat dog octopus\")\n",
    "animals.words"
   ]
  },
  {
   "cell_type": "code",
   "execution_count": 18,
   "id": "5cedf080",
   "metadata": {
    "execution": {
     "iopub.execute_input": "2022-10-14T21:35:25.786135Z",
     "iopub.status.busy": "2022-10-14T21:35:25.785740Z",
     "iopub.status.idle": "2022-10-14T21:35:25.792282Z",
     "shell.execute_reply": "2022-10-14T21:35:25.791218Z"
    },
    "papermill": {
     "duration": 0.028227,
     "end_time": "2022-10-14T21:35:25.794650",
     "exception": false,
     "start_time": "2022-10-14T21:35:25.766423",
     "status": "completed"
    },
    "tags": []
   },
   "outputs": [
    {
     "data": {
      "text/plain": [
       "WordList(['cats', 'dogs', 'octopodes'])"
      ]
     },
     "execution_count": 18,
     "metadata": {},
     "output_type": "execute_result"
    }
   ],
   "source": [
    "animals.words.pluralize()\n"
   ]
  },
  {
   "cell_type": "markdown",
   "id": "9887bf9d",
   "metadata": {
    "papermill": {
     "duration": 0.017477,
     "end_time": "2022-10-14T21:35:25.830422",
     "exception": false,
     "start_time": "2022-10-14T21:35:25.812945",
     "status": "completed"
    },
    "tags": []
   },
   "source": [
    "### Spelling Correction\n",
    "Use the correct() method to attempt spelling correction."
   ]
  },
  {
   "cell_type": "code",
   "execution_count": 19,
   "id": "4bc96540",
   "metadata": {
    "execution": {
     "iopub.execute_input": "2022-10-14T21:35:25.867987Z",
     "iopub.status.busy": "2022-10-14T21:35:25.867210Z",
     "iopub.status.idle": "2022-10-14T21:35:25.933574Z",
     "shell.execute_reply": "2022-10-14T21:35:25.932113Z"
    },
    "papermill": {
     "duration": 0.087835,
     "end_time": "2022-10-14T21:35:25.936023",
     "exception": false,
     "start_time": "2022-10-14T21:35:25.848188",
     "status": "completed"
    },
    "tags": []
   },
   "outputs": [
    {
     "name": "stdout",
     "output_type": "stream",
     "text": [
      "I have good spelling!\n"
     ]
    }
   ],
   "source": [
    "b = TextBlob(\"I havv goood speling!\")\n",
    "print(b.correct())"
   ]
  },
  {
   "cell_type": "markdown",
   "id": "5d2450c8",
   "metadata": {
    "papermill": {
     "duration": 0.017637,
     "end_time": "2022-10-14T21:35:25.971534",
     "exception": false,
     "start_time": "2022-10-14T21:35:25.953897",
     "status": "completed"
    },
    "tags": []
   },
   "source": [
    "Word objects have a spellcheck() <br>Word.spellcheck() method that returns a list of (word, confidence) tuples with spelling suggestions."
   ]
  },
  {
   "cell_type": "code",
   "execution_count": 20,
   "id": "36d06fb7",
   "metadata": {
    "execution": {
     "iopub.execute_input": "2022-10-14T21:35:26.009648Z",
     "iopub.status.busy": "2022-10-14T21:35:26.009217Z",
     "iopub.status.idle": "2022-10-14T21:35:26.016851Z",
     "shell.execute_reply": "2022-10-14T21:35:26.015754Z"
    },
    "papermill": {
     "duration": 0.029688,
     "end_time": "2022-10-14T21:35:26.019018",
     "exception": false,
     "start_time": "2022-10-14T21:35:25.989330",
     "status": "completed"
    },
    "tags": []
   },
   "outputs": [
    {
     "data": {
      "text/plain": [
       "[('fallibility', 1.0)]"
      ]
     },
     "execution_count": 20,
     "metadata": {},
     "output_type": "execute_result"
    }
   ],
   "source": [
    "from textblob import Word\n",
    "w = Word('falibility')\n",
    "w.spellcheck()"
   ]
  },
  {
   "cell_type": "markdown",
   "id": "27ae48c6",
   "metadata": {
    "papermill": {
     "duration": 0.017619,
     "end_time": "2022-10-14T21:35:26.054706",
     "exception": false,
     "start_time": "2022-10-14T21:35:26.037087",
     "status": "completed"
    },
    "tags": []
   },
   "source": [
    "### Get Word and Noun Phrase Frequencies\n",
    "There are two ways to get the frequency of a word or noun phrase in a TextBlob.<br>\n",
    "The first is through the word_counts dictionary."
   ]
  },
  {
   "cell_type": "code",
   "execution_count": 21,
   "id": "2bc3136e",
   "metadata": {
    "execution": {
     "iopub.execute_input": "2022-10-14T21:35:26.093421Z",
     "iopub.status.busy": "2022-10-14T21:35:26.092440Z",
     "iopub.status.idle": "2022-10-14T21:35:26.099397Z",
     "shell.execute_reply": "2022-10-14T21:35:26.098527Z"
    },
    "papermill": {
     "duration": 0.028273,
     "end_time": "2022-10-14T21:35:26.101461",
     "exception": false,
     "start_time": "2022-10-14T21:35:26.073188",
     "status": "completed"
    },
    "tags": []
   },
   "outputs": [
    {
     "data": {
      "text/plain": [
       "3"
      ]
     },
     "execution_count": 21,
     "metadata": {},
     "output_type": "execute_result"
    }
   ],
   "source": [
    "monty = TextBlob(\"We are no longer the Knights who say Ni. \"\n",
    "                     \"We are now the Knights who say Ekki ekki ekki PTANG.\")\n",
    "monty.word_counts['ekki']"
   ]
  },
  {
   "cell_type": "code",
   "execution_count": 22,
   "id": "b6311bc1",
   "metadata": {
    "execution": {
     "iopub.execute_input": "2022-10-14T21:35:26.140698Z",
     "iopub.status.busy": "2022-10-14T21:35:26.140022Z",
     "iopub.status.idle": "2022-10-14T21:35:26.145801Z",
     "shell.execute_reply": "2022-10-14T21:35:26.145062Z"
    },
    "papermill": {
     "duration": 0.027487,
     "end_time": "2022-10-14T21:35:26.147906",
     "exception": false,
     "start_time": "2022-10-14T21:35:26.120419",
     "status": "completed"
    },
    "tags": []
   },
   "outputs": [
    {
     "data": {
      "text/plain": [
       "3"
      ]
     },
     "execution_count": 22,
     "metadata": {},
     "output_type": "execute_result"
    }
   ],
   "source": [
    "monty.words.count('ekki')"
   ]
  },
  {
   "cell_type": "markdown",
   "id": "fb34f1b3",
   "metadata": {
    "papermill": {
     "duration": 0.018035,
     "end_time": "2022-10-14T21:35:26.184378",
     "exception": false,
     "start_time": "2022-10-14T21:35:26.166343",
     "status": "completed"
    },
    "tags": []
   },
   "source": [
    "You can specify whether or not the search should be case-sensitive (default is False)."
   ]
  },
  {
   "cell_type": "code",
   "execution_count": 23,
   "id": "570c7cfe",
   "metadata": {
    "execution": {
     "iopub.execute_input": "2022-10-14T21:35:26.222917Z",
     "iopub.status.busy": "2022-10-14T21:35:26.222224Z",
     "iopub.status.idle": "2022-10-14T21:35:26.229514Z",
     "shell.execute_reply": "2022-10-14T21:35:26.228637Z"
    },
    "papermill": {
     "duration": 0.029064,
     "end_time": "2022-10-14T21:35:26.231792",
     "exception": false,
     "start_time": "2022-10-14T21:35:26.202728",
     "status": "completed"
    },
    "tags": []
   },
   "outputs": [
    {
     "data": {
      "text/plain": [
       "2"
      ]
     },
     "execution_count": 23,
     "metadata": {},
     "output_type": "execute_result"
    }
   ],
   "source": [
    "monty.words.count('ekki', case_sensitive=True)"
   ]
  },
  {
   "cell_type": "markdown",
   "id": "c1704903",
   "metadata": {
    "papermill": {
     "duration": 0.02,
     "end_time": "2022-10-14T21:35:26.271050",
     "exception": false,
     "start_time": "2022-10-14T21:35:26.251050",
     "status": "completed"
    },
    "tags": []
   },
   "source": [
    "Each of these methods can also be used with noun phrases."
   ]
  },
  {
   "cell_type": "code",
   "execution_count": 24,
   "id": "676e157a",
   "metadata": {
    "execution": {
     "iopub.execute_input": "2022-10-14T21:35:26.310040Z",
     "iopub.status.busy": "2022-10-14T21:35:26.309314Z",
     "iopub.status.idle": "2022-10-14T21:35:26.315324Z",
     "shell.execute_reply": "2022-10-14T21:35:26.314555Z"
    },
    "papermill": {
     "duration": 0.027941,
     "end_time": "2022-10-14T21:35:26.317527",
     "exception": false,
     "start_time": "2022-10-14T21:35:26.289586",
     "status": "completed"
    },
    "tags": []
   },
   "outputs": [
    {
     "data": {
      "text/plain": [
       "0"
      ]
     },
     "execution_count": 24,
     "metadata": {},
     "output_type": "execute_result"
    }
   ],
   "source": [
    "blob.noun_phrases.count('python')"
   ]
  },
  {
   "cell_type": "markdown",
   "id": "9e9f7980",
   "metadata": {
    "papermill": {
     "duration": 0.018737,
     "end_time": "2022-10-14T21:35:26.355085",
     "exception": false,
     "start_time": "2022-10-14T21:35:26.336348",
     "status": "completed"
    },
    "tags": []
   },
   "source": [
    "#### TextBlobs Are Like Python Strings!"
   ]
  },
  {
   "cell_type": "code",
   "execution_count": 25,
   "id": "aebaafe0",
   "metadata": {
    "execution": {
     "iopub.execute_input": "2022-10-14T21:35:26.394303Z",
     "iopub.status.busy": "2022-10-14T21:35:26.393587Z",
     "iopub.status.idle": "2022-10-14T21:35:26.399525Z",
     "shell.execute_reply": "2022-10-14T21:35:26.398699Z"
    },
    "papermill": {
     "duration": 0.028102,
     "end_time": "2022-10-14T21:35:26.401895",
     "exception": false,
     "start_time": "2022-10-14T21:35:26.373793",
     "status": "completed"
    },
    "tags": []
   },
   "outputs": [
    {
     "data": {
      "text/plain": [
       "TextBlob(\"\n",
       "The titular threat\")"
      ]
     },
     "execution_count": 25,
     "metadata": {},
     "output_type": "execute_result"
    }
   ],
   "source": [
    "#You can use Python’s substring syntax.\n",
    "\n",
    "blob[0:19]"
   ]
  },
  {
   "cell_type": "code",
   "execution_count": 26,
   "id": "f6273ca8",
   "metadata": {
    "execution": {
     "iopub.execute_input": "2022-10-14T21:35:26.440827Z",
     "iopub.status.busy": "2022-10-14T21:35:26.440408Z",
     "iopub.status.idle": "2022-10-14T21:35:26.447668Z",
     "shell.execute_reply": "2022-10-14T21:35:26.446697Z"
    },
    "papermill": {
     "duration": 0.029406,
     "end_time": "2022-10-14T21:35:26.449865",
     "exception": false,
     "start_time": "2022-10-14T21:35:26.420459",
     "status": "completed"
    },
    "tags": []
   },
   "outputs": [
    {
     "data": {
      "text/plain": [
       "TextBlob(\"\n",
       "THE TITULAR THREAT OF THE BLOB HAS ALWAYS STRUCK ME AS THE ULTIMATE MOVIE\n",
       "MONSTER: AN INSATIABLY HUNGRY, AMOEBA-LIKE MASS ABLE TO PENETRATE\n",
       "VIRTUALLY ANY SAFEGUARD, CAPABLE OF--AS A DOOMED DOCTOR CHILLINGLY\n",
       "DESCRIBES IT--\"ASSIMILATING FLESH ON CONTACT.\n",
       "SNIDE COMPARISONS TO GELATIN BE DAMNED, IT'S A CONCEPT WITH THE MOST\n",
       "DEVASTATING OF POTENTIAL CONSEQUENCES, NOT UNLIKE THE GREY GOO SCENARIO\n",
       "PROPOSED BY TECHNOLOGICAL THEORISTS FEARFUL OF\n",
       "ARTIFICIAL INTELLIGENCE RUN RAMPANT.\n",
       "\")"
      ]
     },
     "execution_count": 26,
     "metadata": {},
     "output_type": "execute_result"
    }
   ],
   "source": [
    "#You can use common string methods.\n",
    "blob.upper()"
   ]
  },
  {
   "cell_type": "code",
   "execution_count": 27,
   "id": "c6f5dc16",
   "metadata": {
    "execution": {
     "iopub.execute_input": "2022-10-14T21:35:26.489362Z",
     "iopub.status.busy": "2022-10-14T21:35:26.488960Z",
     "iopub.status.idle": "2022-10-14T21:35:26.495661Z",
     "shell.execute_reply": "2022-10-14T21:35:26.494384Z"
    },
    "papermill": {
     "duration": 0.029062,
     "end_time": "2022-10-14T21:35:26.497908",
     "exception": false,
     "start_time": "2022-10-14T21:35:26.468846",
     "status": "completed"
    },
    "tags": []
   },
   "outputs": [
    {
     "data": {
      "text/plain": [
       "-1"
      ]
     },
     "execution_count": 27,
     "metadata": {},
     "output_type": "execute_result"
    }
   ],
   "source": [
    "blob.find(\"Simple\")"
   ]
  },
  {
   "cell_type": "code",
   "execution_count": 28,
   "id": "f41d2fce",
   "metadata": {
    "execution": {
     "iopub.execute_input": "2022-10-14T21:35:26.537772Z",
     "iopub.status.busy": "2022-10-14T21:35:26.536835Z",
     "iopub.status.idle": "2022-10-14T21:35:26.543725Z",
     "shell.execute_reply": "2022-10-14T21:35:26.542957Z"
    },
    "papermill": {
     "duration": 0.029094,
     "end_time": "2022-10-14T21:35:26.545911",
     "exception": false,
     "start_time": "2022-10-14T21:35:26.516817",
     "status": "completed"
    },
    "tags": []
   },
   "outputs": [
    {
     "data": {
      "text/plain": [
       "True"
      ]
     },
     "execution_count": 28,
     "metadata": {},
     "output_type": "execute_result"
    }
   ],
   "source": [
    "# You can make comparisons between TextBlobs and strings.\n",
    "\n",
    "apple_blob = TextBlob('apples')\n",
    "banana_blob = TextBlob('bananas')\n",
    "apple_blob < banana_blob"
   ]
  },
  {
   "cell_type": "code",
   "execution_count": 29,
   "id": "2bfc33c5",
   "metadata": {
    "execution": {
     "iopub.execute_input": "2022-10-14T21:35:26.585661Z",
     "iopub.status.busy": "2022-10-14T21:35:26.585271Z",
     "iopub.status.idle": "2022-10-14T21:35:26.590998Z",
     "shell.execute_reply": "2022-10-14T21:35:26.590240Z"
    },
    "papermill": {
     "duration": 0.028189,
     "end_time": "2022-10-14T21:35:26.592978",
     "exception": false,
     "start_time": "2022-10-14T21:35:26.564789",
     "status": "completed"
    },
    "tags": []
   },
   "outputs": [
    {
     "data": {
      "text/plain": [
       "True"
      ]
     },
     "execution_count": 29,
     "metadata": {},
     "output_type": "execute_result"
    }
   ],
   "source": [
    "apple_blob == 'apples'"
   ]
  },
  {
   "cell_type": "code",
   "execution_count": 30,
   "id": "c159a3ab",
   "metadata": {
    "execution": {
     "iopub.execute_input": "2022-10-14T21:35:26.632688Z",
     "iopub.status.busy": "2022-10-14T21:35:26.632288Z",
     "iopub.status.idle": "2022-10-14T21:35:26.638679Z",
     "shell.execute_reply": "2022-10-14T21:35:26.637905Z"
    },
    "papermill": {
     "duration": 0.028546,
     "end_time": "2022-10-14T21:35:26.640568",
     "exception": false,
     "start_time": "2022-10-14T21:35:26.612022",
     "status": "completed"
    },
    "tags": []
   },
   "outputs": [
    {
     "data": {
      "text/plain": [
       "'apples and bananas'"
      ]
     },
     "execution_count": 30,
     "metadata": {},
     "output_type": "execute_result"
    }
   ],
   "source": [
    "#You can concatenate and interpolate TextBlobs and strings.\n",
    "\n",
    "apple_blob + ' and ' + banana_blob\n",
    "\n",
    "\"{0} and {1}\".format(apple_blob, banana_blob)"
   ]
  },
  {
   "cell_type": "markdown",
   "id": "3ed7b6e1",
   "metadata": {
    "papermill": {
     "duration": 0.018751,
     "end_time": "2022-10-14T21:35:26.678439",
     "exception": false,
     "start_time": "2022-10-14T21:35:26.659688",
     "status": "completed"
    },
    "tags": []
   },
   "source": [
    "### n-grams\n",
    "\n",
    "The TextBlob.ngrams() method returns a list of tuples of n successive words."
   ]
  },
  {
   "cell_type": "code",
   "execution_count": 31,
   "id": "6d40c8ef",
   "metadata": {
    "execution": {
     "iopub.execute_input": "2022-10-14T21:35:26.719033Z",
     "iopub.status.busy": "2022-10-14T21:35:26.718628Z",
     "iopub.status.idle": "2022-10-14T21:35:26.724986Z",
     "shell.execute_reply": "2022-10-14T21:35:26.724257Z"
    },
    "papermill": {
     "duration": 0.028969,
     "end_time": "2022-10-14T21:35:26.726888",
     "exception": false,
     "start_time": "2022-10-14T21:35:26.697919",
     "status": "completed"
    },
    "tags": []
   },
   "outputs": [
    {
     "data": {
      "text/plain": [
       "[WordList(['Now', 'is', 'better']),\n",
       " WordList(['is', 'better', 'than']),\n",
       " WordList(['better', 'than', 'never'])]"
      ]
     },
     "execution_count": 31,
     "metadata": {},
     "output_type": "execute_result"
    }
   ],
   "source": [
    "blob = TextBlob(\"Now is better than never.\")\n",
    "blob.ngrams(n=3)"
   ]
  },
  {
   "cell_type": "markdown",
   "id": "cb6dc4fc",
   "metadata": {
    "papermill": {
     "duration": 0.019085,
     "end_time": "2022-10-14T21:35:26.765127",
     "exception": false,
     "start_time": "2022-10-14T21:35:26.746042",
     "status": "completed"
    },
    "tags": []
   },
   "source": [
    "### Get Start and End Indices of Sentences\n",
    "\n",
    "Use sentence.start and sentence.end to get the indices where a sentence starts and ends within a TextBlob"
   ]
  },
  {
   "cell_type": "code",
   "execution_count": 32,
   "id": "18e43241",
   "metadata": {
    "execution": {
     "iopub.execute_input": "2022-10-14T21:35:26.805501Z",
     "iopub.status.busy": "2022-10-14T21:35:26.805112Z",
     "iopub.status.idle": "2022-10-14T21:35:26.811139Z",
     "shell.execute_reply": "2022-10-14T21:35:26.809889Z"
    },
    "papermill": {
     "duration": 0.030035,
     "end_time": "2022-10-14T21:35:26.814386",
     "exception": false,
     "start_time": "2022-10-14T21:35:26.784351",
     "status": "completed"
    },
    "tags": []
   },
   "outputs": [
    {
     "name": "stdout",
     "output_type": "stream",
     "text": [
      "Now is better than never.\n",
      "---- Starts at index 0, Ends at index 25\n"
     ]
    }
   ],
   "source": [
    "for s in blob.sentences:\n",
    "    print(s)\n",
    "    print(\"---- Starts at index {}, Ends at index {}\".format(s.start, s.end))\n"
   ]
  },
  {
   "cell_type": "markdown",
   "id": "73d5e554",
   "metadata": {
    "papermill": {
     "duration": 0.018892,
     "end_time": "2022-10-14T21:35:26.852652",
     "exception": false,
     "start_time": "2022-10-14T21:35:26.833760",
     "status": "completed"
    },
    "tags": []
   },
   "source": [
    "### Tutorial: Building a Text Classification System\n",
    "\n",
    "The textblob.classifiers module makes it simple to create custom classifiers.<br>\n",
    "\n",
    "As an example, let’s create a custom sentiment analyzer.<br>\n",
    "Loading Data and Creating a Classifier<br>\n",
    "\n",
    "First we’ll create some training and test data.<br>"
   ]
  },
  {
   "cell_type": "code",
   "execution_count": 33,
   "id": "ef2be3c3",
   "metadata": {
    "execution": {
     "iopub.execute_input": "2022-10-14T21:35:26.892883Z",
     "iopub.status.busy": "2022-10-14T21:35:26.892501Z",
     "iopub.status.idle": "2022-10-14T21:35:26.899375Z",
     "shell.execute_reply": "2022-10-14T21:35:26.898293Z"
    },
    "papermill": {
     "duration": 0.029611,
     "end_time": "2022-10-14T21:35:26.901542",
     "exception": false,
     "start_time": "2022-10-14T21:35:26.871931",
     "status": "completed"
    },
    "tags": []
   },
   "outputs": [],
   "source": [
    "\n",
    " train = [\n",
    "     ('I love this sandwich.', 'pos'),\n",
    "     ('this is an amazing place!', 'pos'),\n",
    "     ('I feel very good about these beers.', 'pos'),\n",
    "     ('this is my best work.', 'pos'),\n",
    "     (\"what an awesome view\", 'pos'),\n",
    "     ('I do not like this restaurant', 'neg'),\n",
    "     ('I am tired of this stuff.', 'neg'),\n",
    "     (\"I can't deal with this\", 'neg'),\n",
    "     ('he is my sworn enemy!', 'neg'),\n",
    "     ('my boss is horrible.', 'neg')\n",
    " ]\n",
    " test = [\n",
    "     ('the beer was good.', 'pos'),\n",
    "     ('I do not enjoy my job', 'neg'),\n",
    "     (\"I ain't feeling dandy today.\", 'neg'),\n",
    "     (\"I feel amazing!\", 'pos'),\n",
    "     ('Gary is a friend of mine.', 'pos'),\n",
    "     (\"I can't believe I'm doing this.\", 'neg')\n",
    " ]\n"
   ]
  },
  {
   "cell_type": "markdown",
   "id": "fe02ccd5",
   "metadata": {
    "papermill": {
     "duration": 0.019052,
     "end_time": "2022-10-14T21:35:26.940235",
     "exception": false,
     "start_time": "2022-10-14T21:35:26.921183",
     "status": "completed"
    },
    "tags": []
   },
   "source": [
    "\n",
    "\n",
    "Now we’ll create a Naive Bayes classifier, passing the training data into the constructor.\n"
   ]
  },
  {
   "cell_type": "code",
   "execution_count": 34,
   "id": "b3d1a1d9",
   "metadata": {
    "execution": {
     "iopub.execute_input": "2022-10-14T21:35:26.980211Z",
     "iopub.status.busy": "2022-10-14T21:35:26.979788Z",
     "iopub.status.idle": "2022-10-14T21:35:26.991661Z",
     "shell.execute_reply": "2022-10-14T21:35:26.990492Z"
    },
    "papermill": {
     "duration": 0.034715,
     "end_time": "2022-10-14T21:35:26.994138",
     "exception": false,
     "start_time": "2022-10-14T21:35:26.959423",
     "status": "completed"
    },
    "tags": []
   },
   "outputs": [],
   "source": [
    "from textblob.classifiers import NaiveBayesClassifier\n",
    "cl = NaiveBayesClassifier(train)\n"
   ]
  },
  {
   "cell_type": "markdown",
   "id": "5edfd92c",
   "metadata": {
    "papermill": {
     "duration": 0.01921,
     "end_time": "2022-10-14T21:35:27.032791",
     "exception": false,
     "start_time": "2022-10-14T21:35:27.013581",
     "status": "completed"
    },
    "tags": []
   },
   "source": [
    "\n",
    "Loading Data from Files\n",
    "\n",
    "You can also load data from common file formats including CSV, JSON, and TSV.\n",
    "\n",
    "CSV files should be formatted like so:<br>\n"
   ]
  },
  {
   "cell_type": "markdown",
   "id": "fc303604",
   "metadata": {
    "papermill": {
     "duration": 0.019545,
     "end_time": "2022-10-14T21:35:27.071943",
     "exception": false,
     "start_time": "2022-10-14T21:35:27.052398",
     "status": "completed"
    },
    "tags": []
   },
   "source": [
    "\n",
    "I love this sandwich.,pos\n",
    "This is an amazing place!,pos\n",
    "I do not like this restaurant,neg\n",
    "\n",
    "JSON files should be formatted like so:\n",
    "\n",
    "[\n",
    "    {\"text\": \"I love this sandwich.\", \"label\": \"pos\"},\n",
    "    {\"text\": \"This is an amazing place!\", \"label\": \"pos\"},\n",
    "    {\"text\": \"I do not like this restaurant\", \"label\": \"neg\"}\n",
    "]\n",
    "\n",
    "You can then pass the opened file into the constructor.\n",
    "\n",
    ">>> with open('train.json', 'r') as fp:<br>\n",
    "...     cl = NaiveBayesClassifier(fp, format=\"json\")"
   ]
  },
  {
   "cell_type": "markdown",
   "id": "cac8a477",
   "metadata": {
    "papermill": {
     "duration": 0.018893,
     "end_time": "2022-10-14T21:35:27.110108",
     "exception": false,
     "start_time": "2022-10-14T21:35:27.091215",
     "status": "completed"
    },
    "tags": []
   },
   "source": [
    "\n",
    "### Classifying Text\n",
    "\n",
    "Call the classify(text) method to use the classifier.\n"
   ]
  },
  {
   "cell_type": "code",
   "execution_count": 35,
   "id": "6d62c889",
   "metadata": {
    "execution": {
     "iopub.execute_input": "2022-10-14T21:35:27.150683Z",
     "iopub.status.busy": "2022-10-14T21:35:27.150291Z",
     "iopub.status.idle": "2022-10-14T21:35:27.158143Z",
     "shell.execute_reply": "2022-10-14T21:35:27.157025Z"
    },
    "papermill": {
     "duration": 0.031096,
     "end_time": "2022-10-14T21:35:27.160432",
     "exception": false,
     "start_time": "2022-10-14T21:35:27.129336",
     "status": "completed"
    },
    "tags": []
   },
   "outputs": [
    {
     "data": {
      "text/plain": [
       "'pos'"
      ]
     },
     "execution_count": 35,
     "metadata": {},
     "output_type": "execute_result"
    }
   ],
   "source": [
    "cl.classify(\"This is an amazing library!\")"
   ]
  },
  {
   "cell_type": "markdown",
   "id": "d5995cb0",
   "metadata": {
    "papermill": {
     "duration": 0.019212,
     "end_time": "2022-10-14T21:35:27.199096",
     "exception": false,
     "start_time": "2022-10-14T21:35:27.179884",
     "status": "completed"
    },
    "tags": []
   },
   "source": [
    "\n",
    "You can get the label probability distribution with the prob_classify(text) method.\n"
   ]
  },
  {
   "cell_type": "code",
   "execution_count": 36,
   "id": "ff3b69aa",
   "metadata": {
    "execution": {
     "iopub.execute_input": "2022-10-14T21:35:27.239795Z",
     "iopub.status.busy": "2022-10-14T21:35:27.239398Z",
     "iopub.status.idle": "2022-10-14T21:35:27.246994Z",
     "shell.execute_reply": "2022-10-14T21:35:27.245842Z"
    },
    "papermill": {
     "duration": 0.030784,
     "end_time": "2022-10-14T21:35:27.249180",
     "exception": false,
     "start_time": "2022-10-14T21:35:27.218396",
     "status": "completed"
    },
    "tags": []
   },
   "outputs": [
    {
     "data": {
      "text/plain": [
       "'pos'"
      ]
     },
     "execution_count": 36,
     "metadata": {},
     "output_type": "execute_result"
    }
   ],
   "source": [
    "prob_dist = cl.prob_classify(\"This one's a doozy.\")\n",
    "prob_dist.max()\n",
    "\n"
   ]
  },
  {
   "cell_type": "code",
   "execution_count": 37,
   "id": "4a68cbe9",
   "metadata": {
    "execution": {
     "iopub.execute_input": "2022-10-14T21:35:27.290566Z",
     "iopub.status.busy": "2022-10-14T21:35:27.290187Z",
     "iopub.status.idle": "2022-10-14T21:35:27.296035Z",
     "shell.execute_reply": "2022-10-14T21:35:27.295265Z"
    },
    "papermill": {
     "duration": 0.029093,
     "end_time": "2022-10-14T21:35:27.298196",
     "exception": false,
     "start_time": "2022-10-14T21:35:27.269103",
     "status": "completed"
    },
    "tags": []
   },
   "outputs": [
    {
     "data": {
      "text/plain": [
       "0.63"
      ]
     },
     "execution_count": 37,
     "metadata": {},
     "output_type": "execute_result"
    }
   ],
   "source": [
    "round(prob_dist.prob(\"pos\"), 2)\n"
   ]
  },
  {
   "cell_type": "code",
   "execution_count": 38,
   "id": "759b752a",
   "metadata": {
    "execution": {
     "iopub.execute_input": "2022-10-14T21:35:27.338937Z",
     "iopub.status.busy": "2022-10-14T21:35:27.338555Z",
     "iopub.status.idle": "2022-10-14T21:35:27.345716Z",
     "shell.execute_reply": "2022-10-14T21:35:27.344588Z"
    },
    "papermill": {
     "duration": 0.030118,
     "end_time": "2022-10-14T21:35:27.347916",
     "exception": false,
     "start_time": "2022-10-14T21:35:27.317798",
     "status": "completed"
    },
    "tags": []
   },
   "outputs": [
    {
     "data": {
      "text/plain": [
       "0.37"
      ]
     },
     "execution_count": 38,
     "metadata": {},
     "output_type": "execute_result"
    }
   ],
   "source": [
    "round(prob_dist.prob(\"neg\"), 2)\n"
   ]
  },
  {
   "cell_type": "markdown",
   "id": "3b89de3a",
   "metadata": {
    "papermill": {
     "duration": 0.019456,
     "end_time": "2022-10-14T21:35:27.387160",
     "exception": false,
     "start_time": "2022-10-14T21:35:27.367704",
     "status": "completed"
    },
    "tags": []
   },
   "source": [
    "\n",
    "### Classifying TextBlobs\n",
    "\n",
    "Another way to classify text is to pass a classifier into the constructor of TextBlob and call its classify() method.\n"
   ]
  },
  {
   "cell_type": "code",
   "execution_count": 39,
   "id": "5d39b331",
   "metadata": {
    "execution": {
     "iopub.execute_input": "2022-10-14T21:35:27.428245Z",
     "iopub.status.busy": "2022-10-14T21:35:27.427850Z",
     "iopub.status.idle": "2022-10-14T21:35:27.435967Z",
     "shell.execute_reply": "2022-10-14T21:35:27.434809Z"
    },
    "papermill": {
     "duration": 0.031362,
     "end_time": "2022-10-14T21:35:27.438301",
     "exception": false,
     "start_time": "2022-10-14T21:35:27.406939",
     "status": "completed"
    },
    "tags": []
   },
   "outputs": [
    {
     "data": {
      "text/plain": [
       "'pos'"
      ]
     },
     "execution_count": 39,
     "metadata": {},
     "output_type": "execute_result"
    }
   ],
   "source": [
    "from textblob import TextBlob\n",
    "blob = TextBlob(\"The beer is good. But the hangover is horrible.\", classifier=cl)\n",
    "blob.classify()\n"
   ]
  },
  {
   "cell_type": "markdown",
   "id": "3d1de8d3",
   "metadata": {
    "papermill": {
     "duration": 0.019783,
     "end_time": "2022-10-14T21:35:27.477916",
     "exception": false,
     "start_time": "2022-10-14T21:35:27.458133",
     "status": "completed"
    },
    "tags": []
   },
   "source": [
    "\n",
    "The advantage of this approach is that you can classify sentences within a TextBlob.\n"
   ]
  },
  {
   "cell_type": "code",
   "execution_count": 40,
   "id": "a33325e1",
   "metadata": {
    "execution": {
     "iopub.execute_input": "2022-10-14T21:35:27.519075Z",
     "iopub.status.busy": "2022-10-14T21:35:27.518698Z",
     "iopub.status.idle": "2022-10-14T21:35:27.524710Z",
     "shell.execute_reply": "2022-10-14T21:35:27.523666Z"
    },
    "papermill": {
     "duration": 0.030463,
     "end_time": "2022-10-14T21:35:27.528180",
     "exception": false,
     "start_time": "2022-10-14T21:35:27.497717",
     "status": "completed"
    },
    "tags": []
   },
   "outputs": [
    {
     "name": "stdout",
     "output_type": "stream",
     "text": [
      "The beer is good.\n",
      "pos\n",
      "But the hangover is horrible.\n",
      "neg\n"
     ]
    }
   ],
   "source": [
    "for s in blob.sentences:\n",
    "    print(s)\n",
    "    print(s.classify())"
   ]
  },
  {
   "cell_type": "markdown",
   "id": "29b38c4e",
   "metadata": {
    "papermill": {
     "duration": 0.019715,
     "end_time": "2022-10-14T21:35:27.569144",
     "exception": false,
     "start_time": "2022-10-14T21:35:27.549429",
     "status": "completed"
    },
    "tags": []
   },
   "source": [
    "### Evaluating Classifiers\n",
    "\n",
    "To compute the accuracy on our test set, use the accuracy(test_data) method.\n"
   ]
  },
  {
   "cell_type": "code",
   "execution_count": 41,
   "id": "c0ee32f6",
   "metadata": {
    "execution": {
     "iopub.execute_input": "2022-10-14T21:35:27.610739Z",
     "iopub.status.busy": "2022-10-14T21:35:27.610349Z",
     "iopub.status.idle": "2022-10-14T21:35:27.618202Z",
     "shell.execute_reply": "2022-10-14T21:35:27.617403Z"
    },
    "papermill": {
     "duration": 0.031186,
     "end_time": "2022-10-14T21:35:27.620131",
     "exception": false,
     "start_time": "2022-10-14T21:35:27.588945",
     "status": "completed"
    },
    "tags": []
   },
   "outputs": [
    {
     "data": {
      "text/plain": [
       "0.8333333333333334"
      ]
     },
     "execution_count": 41,
     "metadata": {},
     "output_type": "execute_result"
    }
   ],
   "source": [
    "\n",
    "cl.accuracy(test)\n"
   ]
  },
  {
   "cell_type": "markdown",
   "id": "26f7e8ba",
   "metadata": {
    "papermill": {
     "duration": 0.019706,
     "end_time": "2022-10-14T21:35:27.659942",
     "exception": false,
     "start_time": "2022-10-14T21:35:27.640236",
     "status": "completed"
    },
    "tags": []
   },
   "source": [
    "\n",
    "Note\n",
    "\n",
    "You can also pass in a file object into the accuracy method. The file can be in any of the formats listed in the Loading Data section.\n",
    "\n",
    "Use the show_informative_features() method to display a listing of the most informative features.\n"
   ]
  },
  {
   "cell_type": "code",
   "execution_count": 42,
   "id": "1c3b10e2",
   "metadata": {
    "execution": {
     "iopub.execute_input": "2022-10-14T21:35:27.701780Z",
     "iopub.status.busy": "2022-10-14T21:35:27.701037Z",
     "iopub.status.idle": "2022-10-14T21:35:27.707551Z",
     "shell.execute_reply": "2022-10-14T21:35:27.706468Z"
    },
    "papermill": {
     "duration": 0.029977,
     "end_time": "2022-10-14T21:35:27.709917",
     "exception": false,
     "start_time": "2022-10-14T21:35:27.679940",
     "status": "completed"
    },
    "tags": []
   },
   "outputs": [
    {
     "name": "stdout",
     "output_type": "stream",
     "text": [
      "Most Informative Features\n",
      "            contains(my) = True              neg : pos    =      1.7 : 1.0\n",
      "            contains(an) = False             neg : pos    =      1.6 : 1.0\n",
      "             contains(I) = False             pos : neg    =      1.4 : 1.0\n",
      "             contains(I) = True              neg : pos    =      1.4 : 1.0\n",
      "            contains(my) = False             pos : neg    =      1.3 : 1.0\n"
     ]
    }
   ],
   "source": [
    "\n",
    "cl.show_informative_features(5)  \n"
   ]
  },
  {
   "cell_type": "markdown",
   "id": "17ad9a4f",
   "metadata": {
    "papermill": {
     "duration": 0.020225,
     "end_time": "2022-10-14T21:35:27.750510",
     "exception": false,
     "start_time": "2022-10-14T21:35:27.730285",
     "status": "completed"
    },
    "tags": []
   },
   "source": [
    "\n",
    "Updating Classifiers with New Data\n",
    "\n",
    "Use the update(new_data) method to update a classifier with new training data.\n"
   ]
  },
  {
   "cell_type": "code",
   "execution_count": 43,
   "id": "629e11aa",
   "metadata": {
    "execution": {
     "iopub.execute_input": "2022-10-14T21:35:27.792418Z",
     "iopub.status.busy": "2022-10-14T21:35:27.792052Z",
     "iopub.status.idle": "2022-10-14T21:35:27.808435Z",
     "shell.execute_reply": "2022-10-14T21:35:27.807445Z"
    },
    "papermill": {
     "duration": 0.040226,
     "end_time": "2022-10-14T21:35:27.810752",
     "exception": false,
     "start_time": "2022-10-14T21:35:27.770526",
     "status": "completed"
    },
    "tags": []
   },
   "outputs": [
    {
     "data": {
      "text/plain": [
       "1.0"
      ]
     },
     "execution_count": 43,
     "metadata": {},
     "output_type": "execute_result"
    }
   ],
   "source": [
    "\n",
    "new_data = [('She is my best friend.', 'pos'),\n",
    "             (\"I'm happy to have a new friend.\", 'pos'),\n",
    "             (\"Stay thirsty, my friend.\", 'pos'),\n",
    "             (\"He ain't from around here.\", 'neg')]\n",
    "cl.update(new_data)\n",
    "cl.accuracy(test)\n"
   ]
  },
  {
   "cell_type": "markdown",
   "id": "94df99d2",
   "metadata": {
    "papermill": {
     "duration": 0.020302,
     "end_time": "2022-10-14T21:35:27.852167",
     "exception": false,
     "start_time": "2022-10-14T21:35:27.831865",
     "status": "completed"
    },
    "tags": []
   },
   "source": [
    "### Feature Extractors"
   ]
  },
  {
   "cell_type": "markdown",
   "id": "54d7337b",
   "metadata": {
    "papermill": {
     "duration": 0.01983,
     "end_time": "2022-10-14T21:35:27.892171",
     "exception": false,
     "start_time": "2022-10-14T21:35:27.872341",
     "status": "completed"
    },
    "tags": []
   },
   "source": [
    "By default, the NaiveBayesClassifier uses a simple feature extractor that indicates which words in the training set are contained in a document.\n",
    "\n",
    "For example, the sentence “I feel happy” might have the features contains(happy): True or contains(angry): False.\n",
    "\n",
    "You can override this feature extractor by writing your own. A feature extractor is simply a function with document (the text to extract features from) as the first argument. The function may include a second argument, train_set (the training dataset), if necessary.\n",
    "\n",
    "The function should return a dictionary of features for document.\n",
    "\n",
    "For example, let’s create a feature extractor that just uses the first and last words of a document as its features.\n"
   ]
  },
  {
   "cell_type": "code",
   "execution_count": 44,
   "id": "6f30a958",
   "metadata": {
    "execution": {
     "iopub.execute_input": "2022-10-14T21:35:27.934375Z",
     "iopub.status.busy": "2022-10-14T21:35:27.933965Z",
     "iopub.status.idle": "2022-10-14T21:35:27.942986Z",
     "shell.execute_reply": "2022-10-14T21:35:27.942128Z"
    },
    "papermill": {
     "duration": 0.032559,
     "end_time": "2022-10-14T21:35:27.945034",
     "exception": false,
     "start_time": "2022-10-14T21:35:27.912475",
     "status": "completed"
    },
    "tags": []
   },
   "outputs": [],
   "source": [
    "\n",
    "def end_word_extractor(document):\n",
    "    tokens = document.split()\n",
    "    first_word, last_word = tokens[0], tokens[-1]\n",
    "    feats = {}\n",
    "    feats[\"first({0})\".format(first_word)] = True\n",
    "    feats[\"last({0})\".format(last_word)] = False\n",
    "    return feats\n",
    "features = end_word_extractor(\"I feel happy\")\n",
    "assert features == {'last(happy)': False, 'first(I)': True}\n"
   ]
  },
  {
   "cell_type": "markdown",
   "id": "c5e1bd8d",
   "metadata": {
    "papermill": {
     "duration": 0.019749,
     "end_time": "2022-10-14T21:35:27.985537",
     "exception": false,
     "start_time": "2022-10-14T21:35:27.965788",
     "status": "completed"
    },
    "tags": []
   },
   "source": [
    "\n",
    "We can then use the feature extractor in a classifier by passing it as the second argument of the constructor.\n"
   ]
  },
  {
   "cell_type": "code",
   "execution_count": 45,
   "id": "02686c12",
   "metadata": {
    "execution": {
     "iopub.execute_input": "2022-10-14T21:35:28.027849Z",
     "iopub.status.busy": "2022-10-14T21:35:28.026666Z",
     "iopub.status.idle": "2022-10-14T21:35:28.036094Z",
     "shell.execute_reply": "2022-10-14T21:35:28.035167Z"
    },
    "papermill": {
     "duration": 0.032649,
     "end_time": "2022-10-14T21:35:28.038143",
     "exception": false,
     "start_time": "2022-10-14T21:35:28.005494",
     "status": "completed"
    },
    "tags": []
   },
   "outputs": [
    {
     "data": {
      "text/plain": [
       "'pos'"
      ]
     },
     "execution_count": 45,
     "metadata": {},
     "output_type": "execute_result"
    }
   ],
   "source": [
    "\n",
    "cl2 = NaiveBayesClassifier(test, feature_extractor=end_word_extractor)\n",
    "blob = TextBlob(\"I'm excited to try my new classifier.\", classifier=cl2)\n",
    "blob.classify()\n"
   ]
  }
 ],
 "metadata": {
  "kernelspec": {
   "display_name": "Python 3",
   "language": "python",
   "name": "python3"
  },
  "language_info": {
   "codemirror_mode": {
    "name": "ipython",
    "version": 3
   },
   "file_extension": ".py",
   "mimetype": "text/x-python",
   "name": "python",
   "nbconvert_exporter": "python",
   "pygments_lexer": "ipython3",
   "version": "3.7.12"
  },
  "papermill": {
   "default_parameters": {},
   "duration": 37.414321,
   "end_time": "2022-10-14T21:35:29.080645",
   "environment_variables": {},
   "exception": null,
   "input_path": "__notebook__.ipynb",
   "output_path": "__notebook__.ipynb",
   "parameters": {},
   "start_time": "2022-10-14T21:34:51.666324",
   "version": "2.3.4"
  }
 },
 "nbformat": 4,
 "nbformat_minor": 5
}
